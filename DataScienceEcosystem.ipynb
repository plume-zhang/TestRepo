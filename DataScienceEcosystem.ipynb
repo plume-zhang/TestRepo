{
 "cells": [
  {
   "cell_type": "markdown",
   "id": "75823c34-6448-4bd9-83ee-73800f1a5842",
   "metadata": {},
   "source": [
    "#Exercise 2: Create markdown cell with title of the notebook\n",
    "\n",
    "# Data Science Tools and Ecosystem"
   ]
  },
  {
   "cell_type": "markdown",
   "id": "0b5fc5eb-e196-45ef-88c3-54e9712ce618",
   "metadata": {},
   "source": [
    "#Exercise 3 - Create a markdown cell for an introduction\n",
    "\n",
    "### In this notebook, Data Science Tools and Ecosystem are summarized. "
   ]
  },
  {
   "cell_type": "markdown",
   "id": "aafc65f2-0957-472e-a2c6-252c040ffacc",
   "metadata": {},
   "source": [
    "**Content**\n",
    "1. Popular languages for Data Science\n",
    "2. Commonly used libraries for Data Science\n",
    "3. Data Science Tools\n",
    "4. Some examples of evaluating arithmetic expression in Python"
   ]
  },
  {
   "cell_type": "markdown",
   "id": "c85c5442-761e-4f67-a4b1-622d53c20326",
   "metadata": {},
   "source": [
    "#Exercise 4 - Create a markdown cell to list data science languages\n",
    "\n",
    "### Some of the popular languages that Data Scientists use are:\n",
    "1. SQL\n",
    "2. Python\n",
    "3. R"
   ]
  },
  {
   "cell_type": "markdown",
   "id": "a82cbaf8-0c0a-434a-b5fd-6f4174adb6d4",
   "metadata": {},
   "source": [
    "#Exercise 5 - Create a markdown cell to list data science libraries\n",
    "\n",
    "### Some of the commonly used libraries used by Data Scientists include:\n",
    "1. NumPy\n",
    "2. Pandas\n",
    "3. Matplotlib"
   ]
  },
  {
   "cell_type": "markdown",
   "id": "ed7fee1b-2c3c-44f1-8d2d-0b9298150e7e",
   "metadata": {},
   "source": [
    "#Exercise 6 - Create a markdown cell with a table of Data Science tools\n",
    "| Data Science Tools |\n",
    "| - |\n",
    "| Jupyter notebook |\n",
    "| Python |\n",
    "| RStudio |"
   ]
  },
  {
   "cell_type": "markdown",
   "id": "3d699395-32b2-4740-b671-be8f7267b5a8",
   "metadata": {},
   "source": [
    "#Exercise 7 - Create a markdown cell introducing arithmetic expression examples\n",
    "\n",
    "### Below are a few examples of evaluating arithmetic expressions in Python"
   ]
  },
  {
   "cell_type": "code",
   "execution_count": 3,
   "id": "64e50f41-c274-493e-b4e1-6374688ef209",
   "metadata": {},
   "outputs": [
    {
     "data": {
      "text/plain": [
       "17"
      ]
     },
     "execution_count": 3,
     "metadata": {},
     "output_type": "execute_result"
    }
   ],
   "source": [
    "#Exercise 8 - Create a code cell to multiply and add numbers\n",
    "\n",
    "#This a simple arithmetic expression to mutiply then add integers\n",
    "(3*4)+5"
   ]
  },
  {
   "cell_type": "code",
   "execution_count": 6,
   "id": "cb0f5d55-1cf6-46aa-bdaa-62a324a2ef97",
   "metadata": {},
   "outputs": [
    {
     "name": "stdout",
     "output_type": "stream",
     "text": [
      "200minutes = 3.3hours\n"
     ]
    }
   ],
   "source": [
    "#Exercise 9 - Create a code cell to convert minutes to hours\n",
    "\n",
    "#This will convert 200 minutes to hours by diving by 60\n",
    "\n",
    "minutes = 200\n",
    "hours = minutes / 60\n",
    "hours_rounded = round(hours,1)\n",
    "\n",
    "print(f\"{minutes}minutes = {hours_rounded}hours\")"
   ]
  },
  {
   "cell_type": "markdown",
   "id": "474c10ab-a808-41e7-906f-2af7718b747d",
   "metadata": {},
   "source": [
    "## Author\n",
    "Plume"
   ]
  }
 ],
 "metadata": {
  "kernelspec": {
   "display_name": "Python 3 (ipykernel)",
   "language": "python",
   "name": "python3"
  },
  "language_info": {
   "codemirror_mode": {
    "name": "ipython",
    "version": 3
   },
   "file_extension": ".py",
   "mimetype": "text/x-python",
   "name": "python",
   "nbconvert_exporter": "python",
   "pygments_lexer": "ipython3",
   "version": "3.12.9"
  }
 },
 "nbformat": 4,
 "nbformat_minor": 5
}
